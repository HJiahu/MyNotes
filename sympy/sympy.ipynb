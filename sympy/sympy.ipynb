{
 "cells": [
  {
   "cell_type": "markdown",
   "metadata": {},
   "source": [
    "参考 [SymPy Tutorail](http://docs.sympy.org/latest/tutorial/index.html)"
   ]
  },
  {
   "cell_type": "markdown",
   "metadata": {},
   "source": [
    "基本思想\n",
    "--------\n",
    "\n",
    "### 符号定义\n",
    "\n",
    "`symbols` takes a string of variable names separated by spaces or commas, and creates Symbols out of them.We can then assign these to variable names.`x,y,z = symbols('x y z')` 创建了三个symbol，然后赋值给了python的三个variable x,y,z， 使得x,y,z成为了symbol。其实就是使用symbols函数创建三个sympy使用的symbol对象。\n",
    "\n",
    "    x = symbols('x')\n",
    "    expr = x + 1 #SymPy expressions are immutable\n",
    "    x = 2\n",
    "    print(expr)\n",
    " \n",
    "上面代码的输出是 x + 1，不是2。注意sympy中的symbol和python中的variable还是不同的。想替换sympy中的symbol需要使用方法**subs**\n",
    "\n",
    "    #SymPy expressions are immutable\n",
    "    expr.subs(x,2) #  输出为3\n",
    "    \n",
    "    expr = x**3 + 4*x*y - z\n",
    "    expr.subs([(x, 2), (y, 4), (z, 0)])#一次替换多个符号，输出 40 \n",
    "\n",
    "\n",
    "当sympy中的symbol和python中的variable在同一个表达式时，variable将自动转化为symbol。\n",
    "\n",
    "**SymPy expressions are immutable**\n",
    "\n",
    "### sympy中的等号\n",
    "\n",
    "一般的等式中我们使用 `=` 来表示相等的关系：`x+1 = y`，但在sympy中使用函数 Eq 表示等式中的等号，例如：`Eq(x+1,4)`。不过我们可以使用`==`来判断两个表达式的结构和变量是否相同(`==`represents exact structural equality testing)。\n",
    "\n",
    "There is also a method called equals that tests if two expressions are equal by evaluating them numerically at random points.\n",
    "\n",
    "### sympy中的 `^` 和 `/`\n",
    "\n",
    "sympy和python一样使用 `**`表示幂运算，在python与sympy中 `^` 表示逻辑异或\n",
    "\n",
    "sympy中的 `/` 将生成一个分数但python中的 `/` 不会生成分数，所以在sympy中应使用`Rational`表示整数之间的除法：\n",
    "\n",
    "    x + 1/2  #输出 x + 0.5\n",
    "    x + Integer(1)/2 #输出 x+1/2\n",
    "    x + Rational(1,2) #输出 x+1/2 这两个不同输出对最后的计算结果是有影响的，因为浮点数无法精确表示"
   ]
  },
  {
   "cell_type": "code",
   "execution_count": 1,
   "metadata": {
    "collapsed": false
   },
   "outputs": [],
   "source": [
    "import sympy as sy\n",
    "sy.init_printing(use_unicode=True)"
   ]
  },
  {
   "cell_type": "code",
   "execution_count": 2,
   "metadata": {
    "collapsed": false
   },
   "outputs": [
    {
     "data": {
      "image/png": "[encoded data removed]",
      "text/latex": [
       "$$\\left ( x, \\quad y, \\quad z, \\quad hehe\\right )$$"
      ],
      "text/plain": [
       "(x, y, z, hehe)"
      ]
     },
     "execution_count": 2,
     "metadata": {},
     "output_type": "execute_result"
    }
   ],
   "source": [
    "#定义符号，注意 a 的输出\n",
    "x,y,z,a= sy.symbols('x y z hehe')\n",
    "x,y,z,a"
   ]
  },
  {
   "cell_type": "markdown",
   "metadata": {},
   "source": [
    "sympy中一些常用函数\n",
    "-------------------"
   ]
  },
  {
   "cell_type": "markdown",
   "metadata": {},
   "source": [
    "### init_printing(use_unicode=True) \n",
    "使公式的打印变得好看\n",
    "\n",
    "### init_session()\n",
    "The init_session() function will automatically import everything in SymPy, create some common Symbols, setup plotting, and run init_printing().\n",
    "\n",
    "### str srepr pprint latex print_mathml dotprint\n",
    "使用不同的格式打印表达式"
   ]
  },
  {
   "cell_type": "markdown",
   "metadata": {},
   "source": [
    "### sympify"
   ]
  },
  {
   "cell_type": "code",
   "execution_count": 3,
   "metadata": {
    "collapsed": false
   },
   "outputs": [
    {
     "data": {
      "image/png": "[encoded data removed]",
      "text/latex": [
       "$$z = x + y$$"
      ],
      "text/plain": [
       "z = x + y"
      ]
     },
     "execution_count": 3,
     "metadata": {},
     "output_type": "execute_result"
    }
   ],
   "source": [
    " #将字符串转化为sympy表达式，字符串中不能使用等号 `=` 表示“等”。注意sympy中表达式与等式的区别\n",
    "rhs_expr = sy.sympify(\"x+y\")\n",
    "#sy.sympify(\"x+y = z\") #是错误的\n",
    "eql_expr = sy.Eq(z,rhs_expr)\n",
    "eql_expr"
   ]
  },
  {
   "cell_type": "markdown",
   "metadata": {},
   "source": [
    "### simplify\n",
    "注意sympify和simplify使完全不同的函数，只不过二者“长得”很像。\n",
    "\n",
    "simplify的输出不一定是是我们所需要的形式，这时就需要使用那些专用的简化函数[参考](http://docs.sympy.org/latest/tutorial/simplification.html)"
   ]
  },
  {
   "cell_type": "code",
   "execution_count": 4,
   "metadata": {
    "collapsed": false
   },
   "outputs": [
    {
     "name": "stdout",
     "output_type": "stream",
     "text": [
      "x**2 + 2*x + 1\n",
      "(x + 1)**2\n"
     ]
    }
   ],
   "source": [
    "expr = x**2 + 2*x + 1\n",
    "print(sy.simplify(expr)) #注意两种简化函数输出的不同之处，还有其他不同用处的简化函数\n",
    "print(sy.factor(expr))"
   ]
  },
  {
   "cell_type": "markdown",
   "metadata": {},
   "source": [
    "### evalf"
   ]
  },
  {
   "cell_type": "code",
   "execution_count": 5,
   "metadata": {
    "collapsed": false
   },
   "outputs": [
    {
     "name": "stdout",
     "output_type": "stream",
     "text": [
      "(2.236067978, 3.14159265)\n",
      "0.412118485241757\n",
      "0.412118485241757\n"
     ]
    }
   ],
   "source": [
    "sqrt5 = sy.sqrt(5).evalf(10) #evalf可以将数值表达式转化为任意精度的浮点数，默认精度为15位小数点\n",
    "pi9 = sy.pi.evalf(9)\n",
    "print(sqrt5,pi9)\n",
    " #两种方式获得表达式的实数值\n",
    "print(sy.sin(x).subs(x,9).evalf())\n",
    "print(sy.sin(x).evalf(subs={x:9}))"
   ]
  },
  {
   "cell_type": "markdown",
   "metadata": {},
   "source": [
    "### lambdify"
   ]
  },
  {
   "cell_type": "code",
   "execution_count": 6,
   "metadata": {
    "collapsed": false
   },
   "outputs": [
    {
     "name": "stdout",
     "output_type": "stream",
     "text": [
      "[ 0.          0.84147098  0.90929743  0.14112001 -0.7568025 ]\n",
      "0.841470984808\n"
     ]
    }
   ],
   "source": [
    "#如果我们想一次求出sympy表达式在多个点处的实数值，可以使用函数lambdify\n",
    "#it converts the SymPy names to the names of the given numerical library, usually NumPy\n",
    "import numpy as np\n",
    "a = np.arange(5)\n",
    "expr = sy.sin(x)\n",
    "f = sy.lambdify(x,expr,\"numpy\") #f = lambdify(x, expr, \"math\") ,使用math库也可以\n",
    "print(f(a))\n",
    "print(f(1))\n",
    "#其他用法见手册"
   ]
  },
  {
   "cell_type": "code",
   "execution_count": 7,
   "metadata": {
    "collapsed": false
   },
   "outputs": [
    {
     "data": {
      "image/png": "[encoded data removed]",
      "text/latex": [
       "$$e^{3 y} \\sin{\\left (x \\right )} \\cos{\\left (x \\right )}$$"
      ],
      "text/plain": [
       " 3⋅y              \n",
       "ℯ   ⋅sin(x)⋅cos(x)"
      ]
     },
     "execution_count": 7,
     "metadata": {},
     "output_type": "execute_result"
    }
   ],
   "source": [
    "x,t,z,nu = sy.symbols('x t z nu')\n",
    "expr = sy.sin(x)*sy.exp(3*y)*sy.cos(x)\n",
    "expr"
   ]
  },
  {
   "cell_type": "markdown",
   "metadata": {},
   "source": [
    "sympy中的微积分\n",
    "--------------"
   ]
  },
  {
   "cell_type": "markdown",
   "metadata": {},
   "source": [
    "### 导数"
   ]
  },
  {
   "cell_type": "code",
   "execution_count": 8,
   "metadata": {
    "collapsed": false
   },
   "outputs": [
    {
     "name": "stdout",
     "output_type": "stream",
     "text": [
      "   3⋅y    2       3⋅y    2   \n",
      "- ℯ   ⋅sin (x) + ℯ   ⋅cos (x)\n",
      "    3⋅y              \n",
      "16⋅ℯ   ⋅sin(x)⋅cos(x)\n",
      "    3⋅y              \n",
      "16⋅ℯ   ⋅sin(x)⋅cos(x)\n",
      "     3⋅y              \n",
      "-36⋅ℯ   ⋅sin(x)⋅cos(x)\n",
      "   3⋅x    2   \n",
      "9⋅9   ⋅log (9)\n"
     ]
    }
   ],
   "source": [
    "sy.pprint(sy.diff(expr,x))\n",
    "#diff can take multiple derivatives at once. \n",
    "#To take multiple derivatives, pass the variable as many times as you wish to differentiate, \n",
    "#or pass a number after the variable. \n",
    "#For example, both of the following find the third derivative of \\(x^4\\).\n",
    "sy.pprint(sy.diff(expr,x,x,x,x))\n",
    "sy.pprint(sy.diff(expr,x,4))\n",
    "#You can also take derivatives with respect to many variables at once.\n",
    "sy.pprint(sy.diff(expr,x,2,y,2))\n",
    "#diff can also be called as a method\n",
    "sy.pprint(sy.sympify('9**(3*x)').diff(x,2))"
   ]
  },
  {
   "cell_type": "code",
   "execution_count": 9,
   "metadata": {
    "collapsed": false
   },
   "outputs": [
    {
     "name": "stdout",
     "output_type": "stream",
     "text": [
      "d         \n",
      "──(sin(x))\n",
      "dx        \n",
      "cos(x)\n"
     ]
    }
   ],
   "source": [
    "#创建一个没有计算的求导对象，可以使用方法doit来计算这个对象\n",
    "expr = sy.sympify('sin(x)')\n",
    "diff_obj = sy.Derivative(expr)\n",
    "sy.pprint(diff_obj)\n",
    "sy.pprint(diff_obj.doit())"
   ]
  },
  {
   "cell_type": "markdown",
   "metadata": {},
   "source": [
    "### 积分"
   ]
  },
  {
   "cell_type": "code",
   "execution_count": 10,
   "metadata": {
    "collapsed": false
   },
   "outputs": [
    {
     "name": "stdout",
     "output_type": "stream",
     "text": [
      " 3\n",
      "x \n",
      "──\n",
      "3 \n"
     ]
    },
    {
     "data": {
      "image/png": "[encoded data removed]",
      "text/latex": [
       "$$\\int x^{x}\\, dx$$"
      ],
      "text/plain": [
       "⌠      \n",
       "⎮  x   \n",
       "⎮ x  dx\n",
       "⌡      "
      ]
     },
     "execution_count": 10,
     "metadata": {},
     "output_type": "execute_result"
    }
   ],
   "source": [
    "#不定积分\n",
    "sy.pprint(sy.integrate(x**2,x))\n",
    "#如果sympy无法计算积分，则返回一个未解决的积分对象\n",
    "sy.integrate(sy.sympify('x**x'),x)"
   ]
  },
  {
   "cell_type": "code",
   "execution_count": 11,
   "metadata": {
    "collapsed": false
   },
   "outputs": [
    {
     "name": "stdout",
     "output_type": "stream",
     "text": [
      "√2⋅√π\n",
      "─────\n",
      "  2  \n",
      "π\n"
     ]
    }
   ],
   "source": [
    "#定积分，注意正负无穷的输入方式：+sy.oo  -sy.oo\n",
    "sy.pprint(sy.integrate(sy.sin(x**2),(x,-sy.oo,sy.oo)))\n",
    "sy.pprint(sy.integrate(sy.exp(-x**2 - y**2), (x, -sy.oo, sy.oo), (y, -sy.oo, sy.oo)))"
   ]
  },
  {
   "cell_type": "code",
   "execution_count": 12,
   "metadata": {
    "collapsed": false
   },
   "outputs": [
    {
     "name": "stdout",
     "output_type": "stream",
     "text": [
      "⌠           \n",
      "⎮    2      \n",
      "⎮ log (x) dx\n",
      "⌡           \n",
      "     2                      \n",
      "x⋅log (x) - 2⋅x⋅log(x) + 2⋅x\n"
     ]
    }
   ],
   "source": [
    "#创建一个积分对象。可以使用方法doit来计算这个积分\n",
    "in_obj = sy.Integral(sy.log(x)**2,x)\n",
    "sy.pprint(in_obj)\n",
    "sy.pprint(in_obj.doit())"
   ]
  },
  {
   "cell_type": "markdown",
   "metadata": {},
   "source": [
    "### 极限"
   ]
  },
  {
   "cell_type": "code",
   "execution_count": 13,
   "metadata": {
    "collapsed": false
   },
   "outputs": [
    {
     "name": "stdout",
     "output_type": "stream",
     "text": [
      "1\n",
      "-∞\n"
     ]
    }
   ],
   "source": [
    "#求极限\n",
    "sy.limit(sy.sin(x)/x,x,0)\n",
    "#创建一个极限对象，使用doit执行\n",
    "expr = sy.Limit(sy.sin(x)/x,x,0)\n",
    "sy.pprint(expr.doit())\n",
    "#正负极限\n",
    "sy.pprint(sy.limit(1/x,x,0,'-'))"
   ]
  },
  {
   "cell_type": "markdown",
   "metadata": {},
   "source": [
    "### 级数"
   ]
  },
  {
   "cell_type": "code",
   "execution_count": 14,
   "metadata": {
    "collapsed": false
   },
   "outputs": [
    {
     "data": {
      "image/png": "[encoded data removed]",
      "text/latex": [
       "$$1 + x + \\frac{x^{2}}{2} + \\mathcal{O}\\left(x^{4}\\right)$$"
      ],
      "text/plain": [
       "         2        \n",
       "        x     ⎛ 4⎞\n",
       "1 + x + ── + O⎝x ⎠\n",
       "        2         "
      ]
     },
     "execution_count": 14,
     "metadata": {},
     "output_type": "execute_result"
    }
   ],
   "source": [
    "expr = sy.exp(sy.sin(x))\n",
    "expr.series(x,0,4) # the third parameter has default value 6"
   ]
  },
  {
   "cell_type": "code",
   "execution_count": 15,
   "metadata": {
    "collapsed": false
   },
   "outputs": [
    {
     "data": {
      "image/png": "[encoded data removed]",
      "text/latex": [
       "$$- \\frac{x^{5}}{15} - \\frac{x^{4}}{8} + \\frac{x^{2}}{2} + x + 1$$"
      ],
      "text/plain": [
       "   5    4    2        \n",
       "  x    x    x         \n",
       "- ── - ── + ── + x + 1\n",
       "  15   8    2         "
      ]
     },
     "execution_count": 15,
     "metadata": {},
     "output_type": "execute_result"
    }
   ],
   "source": [
    "#去除输出的拉格朗日余项，大写的 o \n",
    "expr.series(x,0).removeO()"
   ]
  },
  {
   "cell_type": "markdown",
   "metadata": {},
   "source": [
    "### 有限差分（Finite differences）\n",
    "[参考](http://docs.sympy.org/latest/tutorial/calculus.html#finite-differences)"
   ]
  },
  {
   "cell_type": "markdown",
   "metadata": {},
   "source": [
    "解方程\n",
    "-----\n",
    "**Any expression not in an Eq is automatically assumed to equal 0 by the solving functions**"
   ]
  },
  {
   "cell_type": "code",
   "execution_count": 16,
   "metadata": {
    "collapsed": false
   },
   "outputs": [
    {
     "name": "stdout",
     "output_type": "stream",
     "text": [
      "{-1, 1}\n",
      "{-1, 1}\n"
     ]
    }
   ],
   "source": [
    "#因为solving函数默认表达式等于0，所以求方程组是我们可以不使用Eq函数\n",
    "#sympy中有个函数solve，但好像有什么问题，不太推荐使用，\n",
    "#If there are no solutions, an EmptySet is returned and if it is not able to find solutions then a ConditionSet is returned.\n",
    "#到sympy1.0为止，sympy还不能很好的解非线性方程，solveset函数在解非线性方程时不会给出理想的答案\n",
    "#可以使用nsolve来解非线性方程，数值解\n",
    "print(sy.solveset(sy.Eq(x**2,1),x))\n",
    "print(sy.solveset(x**2-1,x)) #稍微对等式做点变化就可以不使用Eq函数"
   ]
  },
  {
   "cell_type": "code",
   "execution_count": 17,
   "metadata": {
    "collapsed": false
   },
   "outputs": [
    {
     "data": {
      "image/png": "[encoded data removed]",
      "text/latex": [
       "$$\\left\\{x\\; |\\; x \\in \\mathbb{C} \\wedge x + \\sin{\\left (x \\right )} = 0 \\right\\}$$"
      ],
      "text/plain": [
       "{x | x ∊ ℂ ∧ x + sin(x) = 0}"
      ]
     },
     "execution_count": 17,
     "metadata": {},
     "output_type": "execute_result"
    }
   ],
   "source": [
    "expr = sy.cos(x) - sy.exp(x)  #sy.sin(x) - x 有解但将返回 ConditionSet  ？？？？？\n",
    "#sy.pprint(sy.solveset(expr, x, domain=sy.S.Reals))#无解\n",
    "sy.solveset(sy.sin(x) + x,x )"
   ]
  },
  {
   "cell_type": "markdown",
   "metadata": {},
   "source": [
    "### 解线性方程组"
   ]
  },
  {
   "cell_type": "code",
   "execution_count": 18,
   "metadata": {
    "collapsed": false
   },
   "outputs": [
    {
     "name": "stdout",
     "output_type": "stream",
     "text": [
      "{(-y - 1, y, 2)}\n",
      "{(-y - 1, y, 2)}\n"
     ]
    }
   ],
   "source": [
    "print(sy.linsolve([x + y + z - 1, x + y + 2*z - 3 ], (x, y, z)))\n",
    "print(sy.linsolve(sy.Matrix(([1, 1, 1, 1], [1, 1, 2, 3])), (x, y, z)))  #矩阵形式的方程组"
   ]
  },
  {
   "cell_type": "code",
   "execution_count": 19,
   "metadata": {
    "collapsed": false
   },
   "outputs": [
    {
     "data": {
      "image/png": "[encoded data removed]",
      "text/latex": [
       "$$\\left [ 1\\right ]$$"
      ],
      "text/plain": [
       "[1]"
      ]
     },
     "execution_count": 19,
     "metadata": {},
     "output_type": "execute_result"
    }
   ],
   "source": [
    "#解方程\n",
    "sy.solve(x-1,x)"
   ]
  },
  {
   "cell_type": "code",
   "execution_count": 20,
   "metadata": {
    "collapsed": false
   },
   "outputs": [
    {
     "data": {
      "image/png": "[encoded data removed]",
      "text/latex": [
       "$$y{\\left (t \\right )} = C_{2} e^{- t} + \\left(C_{1} + \\frac{t}{2}\\right) e^{t}$$"
      ],
      "text/plain": [
       "           -t   ⎛     t⎞  t\n",
       "y(t) = C₂⋅ℯ   + ⎜C₁ + ─⎟⋅ℯ \n",
       "                ⎝     2⎠   "
      ]
     },
     "execution_count": 20,
     "metadata": {},
     "output_type": "execute_result"
    }
   ],
   "source": [
    "#解微分方程\n",
    "y = sy.Function('y') #定义function对象\n",
    "f, g = sy.symbols('f g', cls=sy.Function) #使用symbols定义function对象\n",
    "sy.dsolve(sy.Eq(y(t).diff(t,t)-y(t),sy.exp(t)),y(t)) #使用dsolve解微分方程"
   ]
  },
  {
   "cell_type": "markdown",
   "metadata": {},
   "source": [
    "线性代数\n",
    "--------"
   ]
  },
  {
   "cell_type": "code",
   "execution_count": 21,
   "metadata": {
    "collapsed": false
   },
   "outputs": [
    {
     "data": {
      "image/png": "[encoded data removed]",
      "text/latex": [
       "$$\\left \\{ \\frac{3}{2} + \\frac{\\sqrt{17}}{2} : 1, \\quad - \\frac{\\sqrt{17}}{2} + \\frac{3}{2} : 1\\right \\}$$"
      ],
      "text/plain": [
       "⎧3   √17       √17   3   ⎫\n",
       "⎨─ + ───: 1, - ─── + ─: 1⎬\n",
       "⎩2    2         2    2   ⎭"
      ]
     },
     "execution_count": 21,
     "metadata": {},
     "output_type": "execute_result"
    }
   ],
   "source": [
    "#求矩阵的特征值\n",
    "#对于数值类型的矩阵运算最好使用numpy\n",
    "sy.Matrix([[1,2],[2,2]]).eigenvals()"
   ]
  }
 ],
 "metadata": {
  "anaconda-cloud": {},
  "kernelspec": {
   "display_name": "Python [conda root]",
   "language": "python",
   "name": "conda-root-py"
  },
  "language_info": {
   "codemirror_mode": {
    "name": "ipython",
    "version": 2
   },
   "file_extension": ".py",
   "mimetype": "text/x-python",
   "name": "python",
   "nbconvert_exporter": "python",
   "pygments_lexer": "ipython2",
   "version": "2.7.12"
  }
 },
 "nbformat": 4,
 "nbformat_minor": 1
}
